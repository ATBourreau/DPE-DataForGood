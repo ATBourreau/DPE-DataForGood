{
 "cells": [
  {
   "cell_type": "code",
   "execution_count": null,
   "id": "dd103d6d",
   "metadata": {},
   "outputs": [],
   "source": [
    "from autogluon.tabular import TabularDataset, TabularPredictor"
   ]
  },
  {
   "cell_type": "code",
   "execution_count": null,
   "id": "30ff3f51",
   "metadata": {},
   "outputs": [],
   "source": [
    "df = TabularDataset(f'dpe_2.csv')"
   ]
  },
  {
   "cell_type": "code",
   "execution_count": null,
   "id": "ac8ac7ac",
   "metadata": {},
   "outputs": [],
   "source": [
    "df.info()"
   ]
  },
  {
   "cell_type": "code",
   "execution_count": null,
   "id": "add159a9",
   "metadata": {},
   "outputs": [],
   "source": [
    "df.hist(column=['cout_total_5_usages'], bins=50, by=['type_batiment'])"
   ]
  },
  {
   "cell_type": "code",
   "execution_count": null,
   "id": "00781c06",
   "metadata": {},
   "outputs": [],
   "source": [
    "df.drop(columns=[\"Unnamed: 0\", \"coordonnee_cartographique_x_ban\", \"coordonnee_cartographique_y_ban\", \"conso_5_usages_ep\", \"conso_5_usages_par_m2_ep\", \"emission_ges_5_usages\", \"emission_ges_5_usages par_m2\", \"type_energie_principale_chauffage\", \"type_generateur_chauffage_principal_ecs\", \"type_generateur_chauffage_principal\", \"type_installation_chauffage\", \"type_installation_ecs\"], inplace=True)"
   ]
  },
  {
   "cell_type": "code",
   "execution_count": null,
   "id": "1aa57496",
   "metadata": {},
   "outputs": [],
   "source": [
    "df.info()"
   ]
  },
  {
   "cell_type": "code",
   "execution_count": null,
   "id": "5daacd20",
   "metadata": {},
   "outputs": [],
   "source": [
    "df.head(100)"
   ]
  },
  {
   "cell_type": "code",
   "execution_count": null,
   "id": "64463bc9",
   "metadata": {},
   "outputs": [],
   "source": [
    "df.dropna(inplace=True)\n",
    "df_shuffled = df.sample(frac=1)\n",
    "train_size = 0.9\n",
    "train_data=df_shuffled.iloc[0:int(train_size*len(df))]\n",
    "test_data=df_shuffled.iloc[int(train_size*len(df)):]"
   ]
  },
  {
   "cell_type": "code",
   "execution_count": null,
   "id": "900d6660",
   "metadata": {},
   "outputs": [],
   "source": [
    "df.info()"
   ]
  },
  {
   "cell_type": "code",
   "execution_count": null,
   "id": "f7d7de97",
   "metadata": {},
   "outputs": [],
   "source": [
    "train_data.head()"
   ]
  },
  {
   "cell_type": "code",
   "execution_count": null,
   "id": "2b272398",
   "metadata": {},
   "outputs": [],
   "source": [
    "train_data.info()"
   ]
  },
  {
   "cell_type": "code",
   "execution_count": null,
   "id": "0721a259",
   "metadata": {},
   "outputs": [],
   "source": [
    "train_data.hist(column=['cout_total_5_usages'], bins=50, by=['type_energie_principale_ecs'])"
   ]
  },
  {
   "cell_type": "code",
   "execution_count": null,
   "id": "cf0e9607",
   "metadata": {},
   "outputs": [],
   "source": [
    "train_data.info()"
   ]
  },
  {
   "cell_type": "code",
   "execution_count": null,
   "id": "285e35d7",
   "metadata": {},
   "outputs": [],
   "source": [
    "test_data.info()"
   ]
  },
  {
   "cell_type": "code",
   "execution_count": null,
   "id": "c8af42a8",
   "metadata": {},
   "outputs": [],
   "source": [
    "label = 'cout_total_5_usages'\n",
    "train_data[label].describe()"
   ]
  },
  {
   "cell_type": "code",
   "execution_count": null,
   "id": "52e58ad3",
   "metadata": {},
   "outputs": [],
   "source": [
    "predictor = TabularPredictor(label=label, problem_type='regression').fit(train_data, presets = 'medium')"
   ]
  },
  {
   "cell_type": "code",
   "execution_count": null,
   "id": "9eb30ac0",
   "metadata": {},
   "outputs": [],
   "source": [
    "print(\"AutoGluon infers problem type is: \", predictor.problem_type)\n",
    "print(\"AutoGluon identified the following types of features:\")\n",
    "print(predictor.feature_metadata)"
   ]
  },
  {
   "cell_type": "code",
   "execution_count": null,
   "id": "2a628a57",
   "metadata": {},
   "outputs": [],
   "source": [
    "y_pred = predictor.predict(test_data.drop(columns=[label]))\n",
    "y_pred.head()"
   ]
  },
  {
   "cell_type": "code",
   "execution_count": null,
   "id": "42dedecc",
   "metadata": {},
   "outputs": [],
   "source": [
    "print('Performance on test data for best model :', (predictor.leaderboard(test_data)).model[0])\n",
    "predictor.evaluate(test_data, silent=True, model=(predictor.leaderboard(test_data)).model[0])"
   ]
  },
  {
   "cell_type": "code",
   "execution_count": null,
   "id": "281ad401",
   "metadata": {},
   "outputs": [],
   "source": [
    "predictor.leaderboard(test_data)"
   ]
  }
 ],
 "metadata": {
  "kernelspec": {
   "display_name": "Data4Good",
   "language": "python",
   "name": "python3"
  },
  "language_info": {
   "codemirror_mode": {
    "name": "ipython",
    "version": 3
   },
   "file_extension": ".py",
   "mimetype": "text/x-python",
   "name": "python",
   "nbconvert_exporter": "python",
   "pygments_lexer": "ipython3",
   "version": "3.12.3"
  }
 },
 "nbformat": 4,
 "nbformat_minor": 5
}
